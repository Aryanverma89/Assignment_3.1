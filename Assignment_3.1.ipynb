{
 "cells": [
  {
   "cell_type": "markdown",
   "id": "f4fac797-ffde-4858-8aa5-66356007569e",
   "metadata": {},
   "source": [
    " Q1. Which keyword is used to create a function? Create a function to return a list of odd numbers in the range of 1 to 25."
   ]
  },
  {
   "cell_type": "code",
   "execution_count": 2,
   "id": "39ece1a6-a063-43bb-85dc-0c171266749e",
   "metadata": {},
   "outputs": [],
   "source": [
    "# def keyword is used to create a function in python.\n",
    "l1=[]\n",
    "def odd_num():\n",
    "    for i in range(1,25):\n",
    "        if i%2!=0:\n",
    "            l1.append(i)\n",
    "    return i        "
   ]
  },
  {
   "cell_type": "code",
   "execution_count": 3,
   "id": "e4289166-36bd-45e4-a298-92a58d5a4570",
   "metadata": {},
   "outputs": [
    {
     "name": "stdout",
     "output_type": "stream",
     "text": [
      "[1, 3, 5, 7, 9, 11, 13, 15, 17, 19, 21, 23]\n"
     ]
    }
   ],
   "source": [
    "odd_num()\n",
    "print(l1)"
   ]
  },
  {
   "cell_type": "markdown",
   "id": "076827f8-b024-449d-a523-cf0f53ef7941",
   "metadata": {},
   "source": [
    "Q2. Why *args and **kwargs is used in some functions? Create a function each for *args and **kwargs to demonstrate their use."
   ]
  },
  {
   "cell_type": "code",
   "execution_count": 9,
   "id": "cfadba52-521a-42b8-b57e-447cc67e59a1",
   "metadata": {},
   "outputs": [],
   "source": [
    "# *args is used in some functions if we want to pass (n) number of variables.It behave like tupple.\n",
    "def var_name(*arg):\n",
    "    return arg \n",
    "\n",
    "# **args is used in some functions if we want to pass (n) number of variables.It behave like dictnary.\n",
    "def dic_name(**args):\n",
    "    return args"
   ]
  },
  {
   "cell_type": "code",
   "execution_count": 10,
   "id": "0d8ef38e-a6ee-4f07-a567-5db147d27bdb",
   "metadata": {},
   "outputs": [
    {
     "data": {
      "text/plain": [
       "(2, 3, 4)"
      ]
     },
     "execution_count": 10,
     "metadata": {},
     "output_type": "execute_result"
    }
   ],
   "source": [
    "var_name(2,3,4)"
   ]
  },
  {
   "cell_type": "code",
   "execution_count": 17,
   "id": "824cbe86-65af-4c12-8899-92d7a2996c5c",
   "metadata": {},
   "outputs": [
    {
     "data": {
      "text/plain": [
       "{'a': 1,\n",
       " 'Name': 'Aryan',\n",
       " 'Course': 'Data Science',\n",
       " 'email': 'patelaryan8004@gmail.com',\n",
       " 'b': [2, 4, 6]}"
      ]
     },
     "execution_count": 17,
     "metadata": {},
     "output_type": "execute_result"
    }
   ],
   "source": [
    "dic_name(a=1,Name=\"Aryan\",Course=\"Data Science\",email=\"patelaryan8004@gmail.com\",b=[2,4,6])"
   ]
  },
  {
   "cell_type": "markdown",
   "id": "100eda7e-208c-49ea-99fa-651575fb0620",
   "metadata": {},
   "source": [
    " Q3.  What is an iterator in python? Name the method used to initialise the iterator object and the method \n",
    "used for iteration. Use these methods to print the  first five elements of the given list [2, 4, 6, 8, 10, 12, 14, \n",
    "16, 18, 20]. "
   ]
  },
  {
   "cell_type": "code",
   "execution_count": 33,
   "id": "09040dbe-860f-470a-9f17-e5302a49dd44",
   "metadata": {},
   "outputs": [
    {
     "data": {
      "text/plain": [
       "'An iterator in python is a object contains number of countable number of elements that can be iterated which means returns\\nsingle elements at a time. iter() method is used to initialise the iterator object. next() method is used for iteration.  '"
      ]
     },
     "execution_count": 33,
     "metadata": {},
     "output_type": "execute_result"
    }
   ],
   "source": [
    "\"\"\"An iterator in python is a object contains number of countable number of elements that can be iterated which means returns\n",
    "single elements at a time. iter() method is used to initialise the iterator object. next() method is used for iteration.  \"\"\" "
   ]
  },
  {
   "cell_type": "code",
   "execution_count": 34,
   "id": "8e2d5b1d-4460-4a9d-a5ee-2604c13cd922",
   "metadata": {},
   "outputs": [],
   "source": [
    "l=[2,4,6,8,10,12,14,16,18,20]"
   ]
  },
  {
   "cell_type": "code",
   "execution_count": 36,
   "id": "6ce33427-f1ca-4870-918e-c2199032baac",
   "metadata": {},
   "outputs": [],
   "source": [
    "l1=iter(l)"
   ]
  },
  {
   "cell_type": "code",
   "execution_count": 37,
   "id": "79077fc1-e88c-4db6-8541-4d5dcfa845b4",
   "metadata": {},
   "outputs": [
    {
     "data": {
      "text/plain": [
       "list_iterator"
      ]
     },
     "execution_count": 37,
     "metadata": {},
     "output_type": "execute_result"
    }
   ],
   "source": [
    "type(l1)"
   ]
  },
  {
   "cell_type": "code",
   "execution_count": 38,
   "id": "5d0b90d4-69af-4477-9103-ca8fd9b057b0",
   "metadata": {},
   "outputs": [
    {
     "data": {
      "text/plain": [
       "2"
      ]
     },
     "execution_count": 38,
     "metadata": {},
     "output_type": "execute_result"
    }
   ],
   "source": [
    "next(l1)"
   ]
  },
  {
   "cell_type": "code",
   "execution_count": 39,
   "id": "70a53ffa-4ccf-4053-9795-38cb479fc00c",
   "metadata": {},
   "outputs": [
    {
     "data": {
      "text/plain": [
       "4"
      ]
     },
     "execution_count": 39,
     "metadata": {},
     "output_type": "execute_result"
    }
   ],
   "source": [
    "next(l1)"
   ]
  },
  {
   "cell_type": "code",
   "execution_count": 40,
   "id": "63864f1e-0c0e-4882-acd1-741145825541",
   "metadata": {},
   "outputs": [
    {
     "data": {
      "text/plain": [
       "6"
      ]
     },
     "execution_count": 40,
     "metadata": {},
     "output_type": "execute_result"
    }
   ],
   "source": [
    "next(l1)"
   ]
  },
  {
   "cell_type": "code",
   "execution_count": 41,
   "id": "87e8bb3c-659a-45bc-a1e6-f2bf89cf22b5",
   "metadata": {},
   "outputs": [
    {
     "data": {
      "text/plain": [
       "8"
      ]
     },
     "execution_count": 41,
     "metadata": {},
     "output_type": "execute_result"
    }
   ],
   "source": [
    "next(l1)"
   ]
  },
  {
   "cell_type": "code",
   "execution_count": 42,
   "id": "74498a1d-13d9-414b-ab47-e388e11cfff1",
   "metadata": {},
   "outputs": [
    {
     "data": {
      "text/plain": [
       "10"
      ]
     },
     "execution_count": 42,
     "metadata": {},
     "output_type": "execute_result"
    }
   ],
   "source": [
    "next(l1)"
   ]
  },
  {
   "cell_type": "markdown",
   "id": "ea925451-a895-4886-96b3-82c528127f17",
   "metadata": {},
   "source": [
    "Q4.  What is a generator function in python? Why yield keyword is used? Give an example of a generator function."
   ]
  },
  {
   "cell_type": "code",
   "execution_count": 44,
   "id": "bd807559-6b57-4816-91fb-dd560771d271",
   "metadata": {},
   "outputs": [
    {
     "data": {
      "text/plain": [
       "'A function which allows to declare function and behave like iterator and write your own algorithm .It is not run continuos when you call it will run.\\nyield keyword is used to pause the execution of generator function and return the expression value to generator caller.  '"
      ]
     },
     "execution_count": 44,
     "metadata": {},
     "output_type": "execute_result"
    }
   ],
   "source": [
    "\"\"\"A function which allows to declare function and behave like iterator and write your own algorithm .It is not run continuos when you call it will run.\n",
    "yield keyword is used to pause the execution of generator function and return the expression value to generator caller.  \"\"\""
   ]
  },
  {
   "cell_type": "code",
   "execution_count": 50,
   "id": "af32af19-74ed-4145-9dda-d3a0a9cfad20",
   "metadata": {},
   "outputs": [],
   "source": [
    "# Example of generator function.\n",
    "def natural_num(n):\n",
    "    a=1\n",
    "    for i in range(n):\n",
    "        yield(a)\n",
    "        a+=1\n",
    "        \n",
    "    "
   ]
  },
  {
   "cell_type": "code",
   "execution_count": 51,
   "id": "b954e07c-427b-4327-9da1-f75dc33ef168",
   "metadata": {},
   "outputs": [
    {
     "name": "stdout",
     "output_type": "stream",
     "text": [
      "1\n",
      "2\n",
      "3\n",
      "4\n",
      "5\n",
      "6\n",
      "7\n",
      "8\n",
      "9\n",
      "10\n"
     ]
    }
   ],
   "source": [
    "for i in natural_num(10):\n",
    "    print(i) "
   ]
  },
  {
   "cell_type": "markdown",
   "id": "4e7677a1-ff44-4afb-88b0-483fdaafc655",
   "metadata": {},
   "source": [
    " Q5. Create a generator function for prime numbers less than 1000. Use the next() method to print the first 20 prime numbers."
   ]
  },
  {
   "cell_type": "code",
   "execution_count": 36,
   "id": "cfbfbe8b-a8df-46e5-9083-a9dbc1001d37",
   "metadata": {},
   "outputs": [
    {
     "name": "stdout",
     "output_type": "stream",
     "text": [
      "2\n",
      "3\n",
      "5\n",
      "7\n",
      "11\n",
      "13\n",
      "17\n",
      "19\n",
      "23\n",
      "29\n",
      "31\n",
      "37\n",
      "41\n",
      "43\n",
      "47\n",
      "53\n",
      "59\n",
      "61\n",
      "67\n",
      "71\n"
     ]
    }
   ],
   "source": [
    "def is_prime(num):\n",
    "    for i in range(2,num):\n",
    "        if num % i == 0:\n",
    "            return False\n",
    "    return True\n",
    "\n",
    "def prime_generator(n):\n",
    "    num = 2\n",
    "    while n:\n",
    "        if is_prime(num):\n",
    "            yield num\n",
    "        num += 1\n",
    "\n",
    "# Create a generator object\n",
    "prime_gen = prime_generator(1000)\n",
    "\n",
    "# Print the first 20 prime numbers\n",
    "for j in range(20):\n",
    "    print(next(prime_gen))"
   ]
  },
  {
   "cell_type": "code",
   "execution_count": null,
   "id": "2675ff9b-caa9-4200-af0d-5bbd3853d080",
   "metadata": {},
   "outputs": [],
   "source": [
    "Q6. Write a python program to print the first 10 Fibonacci numbers using a while loop."
   ]
  },
  {
   "cell_type": "code",
   "execution_count": 5,
   "id": "d222a3bb-1fa3-4540-bf79-f8644c0a6391",
   "metadata": {},
   "outputs": [
    {
     "name": "stdout",
     "output_type": "stream",
     "text": [
      "0\n",
      "1\n",
      "1\n",
      "2\n",
      "3\n",
      "5\n",
      "8\n",
      "13\n",
      "21\n",
      "34\n"
     ]
    }
   ],
   "source": [
    "n1 = 0\n",
    "n2 = 1\n",
    "i = 0\n",
    "\n",
    "while(i <  10):\n",
    "    print( n1)\n",
    "    c = n1 + n2\n",
    "    n1 = n2\n",
    "    n2 = c\n",
    "    i = i + 1"
   ]
  },
  {
   "cell_type": "code",
   "execution_count": null,
   "id": "5ca83bba-490c-46fa-9a2a-dc2d749855a3",
   "metadata": {},
   "outputs": [],
   "source": [
    "#Q7. Write a List Comprehension to iterate through the given string: ‘pwskills’.\n",
    "# Expected output: ['p', 'w', 's', 'k', 'i', 'l', 'l', 's'] \n"
   ]
  },
  {
   "cell_type": "code",
   "execution_count": 46,
   "id": "12e11536-6289-4e55-96e3-0085e1d58e81",
   "metadata": {},
   "outputs": [],
   "source": [
    "d=\"pwskills\""
   ]
  },
  {
   "cell_type": "code",
   "execution_count": 47,
   "id": "c25e9bdb-2742-4e96-9427-a2bdb492dc12",
   "metadata": {},
   "outputs": [],
   "source": [
    "r=iter(d)"
   ]
  },
  {
   "cell_type": "code",
   "execution_count": 48,
   "id": "ed65c9bf-da06-4047-a355-d71cb43c881b",
   "metadata": {},
   "outputs": [
    {
     "data": {
      "text/plain": [
       "str_iterator"
      ]
     },
     "execution_count": 48,
     "metadata": {},
     "output_type": "execute_result"
    }
   ],
   "source": [
    "type(r)"
   ]
  },
  {
   "cell_type": "code",
   "execution_count": 49,
   "id": "35a5ca6f-96d3-4176-a03b-35800cc9e25a",
   "metadata": {},
   "outputs": [],
   "source": [
    "l=[]\n",
    "for i in r:\n",
    "    l.append(i)"
   ]
  },
  {
   "cell_type": "code",
   "execution_count": 50,
   "id": "e670bbb4-78b3-4461-b470-13f486c3d9fd",
   "metadata": {},
   "outputs": [
    {
     "name": "stdout",
     "output_type": "stream",
     "text": [
      "['p', 'w', 's', 'k', 'i', 'l', 'l', 's']\n"
     ]
    }
   ],
   "source": [
    "print(l)"
   ]
  },
  {
   "cell_type": "code",
   "execution_count": 51,
   "id": "7e02c3b9-e3d5-4b36-8b11-2c85280c24dc",
   "metadata": {},
   "outputs": [],
   "source": [
    "#Q8. Write a python program to check whether a given number is Palindrome or not using a while loop.\n"
   ]
  },
  {
   "cell_type": "code",
   "execution_count": 68,
   "id": "cfcb1bb8-b551-4397-859a-8349e6ccbdd1",
   "metadata": {},
   "outputs": [
    {
     "name": "stdin",
     "output_type": "stream",
     "text": [
      "Enter number: 222\n"
     ]
    },
    {
     "name": "stdout",
     "output_type": "stream",
     "text": [
      "Number is palindrome\n"
     ]
    }
   ],
   "source": [
    "n=int(input(\"Enter number:\"))\n",
    "a=n\n",
    "r=0\n",
    "while a>0:\n",
    "    d=a%10\n",
    "    r=r*10+d\n",
    "    a//=10\n",
    "if(n==r):\n",
    "    print(\"Number is palindrome\")\n",
    "else:\n",
    "    print(\"Number is not palindrome\")\n",
    "    \n",
    "    \n"
   ]
  },
  {
   "cell_type": "code",
   "execution_count": 69,
   "id": "366fb64f-08ee-4fba-a735-d3b3184e51db",
   "metadata": {},
   "outputs": [],
   "source": [
    "#Q9. Write a code to print odd numbers from 1 to 100 using list comprehension.\n",
    "#Note: Use a list comprehension to create a list from 1 to 100 and use another List comprehension to filter out odd numbers."
   ]
  },
  {
   "cell_type": "code",
   "execution_count": 88,
   "id": "f9affa07-f686-4339-ba38-a5fd10469340",
   "metadata": {},
   "outputs": [],
   "source": [
    "odd_num=list(filter(lambda x:x%2!=0,range(1,100)))"
   ]
  },
  {
   "cell_type": "code",
   "execution_count": 90,
   "id": "e5e9c6c1-6a76-42eb-ae20-878c840bcc88",
   "metadata": {},
   "outputs": [
    {
     "name": "stdout",
     "output_type": "stream",
     "text": [
      "[1, 3, 5, 7, 9, 11, 13, 15, 17, 19, 21, 23, 25, 27, 29, 31, 33, 35, 37, 39, 41, 43, 45, 47, 49, 51, 53, 55, 57, 59, 61, 63, 65, 67, 69, 71, 73, 75, 77, 79, 81, 83, 85, 87, 89, 91, 93, 95, 97, 99]"
     ]
    }
   ],
   "source": [
    "print(odd_num,end='')"
   ]
  },
  {
   "cell_type": "code",
   "execution_count": null,
   "id": "9cab8c7f-70ee-4709-8f38-2d08f7d0da5d",
   "metadata": {},
   "outputs": [],
   "source": []
  }
 ],
 "metadata": {
  "kernelspec": {
   "display_name": "Python 3 (ipykernel)",
   "language": "python",
   "name": "python3"
  },
  "language_info": {
   "codemirror_mode": {
    "name": "ipython",
    "version": 3
   },
   "file_extension": ".py",
   "mimetype": "text/x-python",
   "name": "python",
   "nbconvert_exporter": "python",
   "pygments_lexer": "ipython3",
   "version": "3.10.8"
  }
 },
 "nbformat": 4,
 "nbformat_minor": 5
}
